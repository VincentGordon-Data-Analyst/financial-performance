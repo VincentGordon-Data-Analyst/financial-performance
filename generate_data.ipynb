{
 "cells": [
  {
   "cell_type": "code",
   "execution_count": 9,
   "metadata": {},
   "outputs": [
    {
     "data": {
      "text/plain": [
       "'C:/Users/User/Desktop/Personal Projects/Linkedin/Performance/data/financial_performance_data.csv'"
      ]
     },
     "execution_count": 9,
     "metadata": {},
     "output_type": "execute_result"
    }
   ],
   "source": [
    "import pandas as pd\n",
    "import random\n",
    "from datetime import datetime, timedelta\n",
    "\n",
    "# Set random seed for reproducibility\n",
    "random.seed(42)\n",
    "\n",
    "# Generate sample data for 3000 rows\n",
    "num_rows = 3000\n",
    "transaction_ids = list(range(1, num_rows + 1))\n",
    "\n",
    "# Generate random dates between Jan 1, 2023 and May 31, 2024\n",
    "start_date = datetime(2019, 1, 1)\n",
    "end_date = datetime(2024, 8, 31)\n",
    "date_range = [start_date + timedelta(days=random.randint(0, (end_date - start_date).days)) for _ in range(num_rows)]\n",
    "\n",
    "# Generate random financial data\n",
    "revenues = [round(random.uniform(0, 30000), 2) for _ in range(num_rows)]\n",
    "expenses = [round(random.uniform(2000, 20000), 2) for _ in range(num_rows)]\n",
    "profits = [round(revenue - expense, 2) for revenue, expense in zip(revenues, expenses)]\n",
    "\n",
    "# Categories\n",
    "categories = [\"Sales Revenue\", \"Marketing Expenses\", \"Operating Expenses\"]\n",
    "categories_dist = [0.6, 0.2, 0.2]  # Weighted distribution\n",
    "transaction_categories = random.choices(categories, categories_dist, k=num_rows)\n",
    "\n",
    "# Departments\n",
    "departments = [\"Sales\", \"Marketing\", \"Operations\", \"Finance\"]\n",
    "transaction_departments = random.choices(departments, k=num_rows)\n",
    "\n",
    "# Manager Names\n",
    "managers = [\"John Doe\", \"Jane Smith\", \"Sarah Brown\", \"David Green\"]\n",
    "transaction_managers = random.choices(managers, k=num_rows)\n",
    "\n",
    "# Regions\n",
    "regions = [\"North America\", \"Europe\", \"Asia-Pacific\", \"South America\"]\n",
    "transaction_regions = random.choices(regions, k=num_rows)\n",
    "\n",
    "# Create a DataFrame\n",
    "df = pd.DataFrame({\n",
    "    'Transaction_ID': transaction_ids,\n",
    "    'Transaction_Date': date_range,\n",
    "    'Revenue': revenues,\n",
    "    'Expenses': expenses,\n",
    "    'Profit': profits,\n",
    "    'Category': transaction_categories,\n",
    "    'Department': transaction_departments,\n",
    "    'Manager_Name': transaction_managers,\n",
    "    'Region': transaction_regions\n",
    "})\n",
    "\n",
    "# Save to CSV\n",
    "csv_file_path = \"C:/Users/User/Desktop/Personal Projects/Linkedin/Performance/data/financial_performance_data.csv\"\n",
    "df.to_csv(csv_file_path, index=False)\n",
    "\n",
    "csv_file_path\n"
   ]
  }
 ],
 "metadata": {
  "kernelspec": {
   "display_name": "Python 3",
   "language": "python",
   "name": "python3"
  },
  "language_info": {
   "codemirror_mode": {
    "name": "ipython",
    "version": 3
   },
   "file_extension": ".py",
   "mimetype": "text/x-python",
   "name": "python",
   "nbconvert_exporter": "python",
   "pygments_lexer": "ipython3",
   "version": "3.10.11"
  }
 },
 "nbformat": 4,
 "nbformat_minor": 2
}
